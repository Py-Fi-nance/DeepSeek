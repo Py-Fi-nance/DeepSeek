{
 "cells": [
  {
   "cell_type": "markdown",
   "metadata": {},
   "source": [
    "# Job Posting Analysis (OpenAI)\n",
    "---"
   ]
  },
  {
   "cell_type": "markdown",
   "metadata": {},
   "source": [
    "## The Case\n",
    "\n",
    "[PyFi](https://pyfi.com) teaches finance professionals how to code in Python. To support our marketing, we analyzed a set of job postings to understand why companies hire finance professionals with Python skills.\n",
    "\n",
    "As part of our analysis, we asked, \"What alternative tools do these job postings list alongside Python?\" Our research assistant copied tools into a spreadsheet, but the tool names and list formatting were inconsistent. In order to analyze this unstructured data, we needed to convert it into structured data.\n",
    "\n",
    "The purpose of this Python program is to convert the unstructured data in the \"Alternatives\" column of Job Data.csv into a set of correctly-flagged indicator columns to support PyFi's analysis.\n",
    "\n",
    "This version of the program uses the [OpenAI API](https://platform.openai.com/docs/quickstart?language=python&desktop-os=windows)."
   ]
  },
  {
   "cell_type": "markdown",
   "metadata": {},
   "source": [
    "<br>\n",
    "\n",
    "## Step 1: Preparation\n",
    "\n",
    "First, we prepare to analyze the job posting data by importing the necessary packages, reading the job posting data into our program, and defining a prompting function."
   ]
  },
  {
   "cell_type": "code",
   "execution_count": null,
   "metadata": {},
   "outputs": [],
   "source": [
    "# Installing the OpenAI package so that it is available for import\n",
    "\n",
    "%pip install openai"
   ]
  },
  {
   "cell_type": "code",
   "execution_count": null,
   "metadata": {},
   "outputs": [],
   "source": [
    "# Importing packages\n",
    "\n",
    "import pandas as pd\n",
    "from pydantic import BaseModel\n",
    "from openai import OpenAI"
   ]
  },
  {
   "cell_type": "code",
   "execution_count": null,
   "metadata": {},
   "outputs": [],
   "source": [
    "# Reading the job posting data into the program\n",
    "\n",
    "posting_data = pd.read_csv('Job Data.csv')\n",
    "posting_data"
   ]
  },
  {
   "cell_type": "code",
   "execution_count": null,
   "metadata": {},
   "outputs": [],
   "source": [
    "# Creating an OpenAI-type client object with an OpenAI API Key\n",
    "\n",
    "client = OpenAI(api_key = \"Your API Key\")"
   ]
  },
  {
   "cell_type": "code",
   "execution_count": null,
   "metadata": {},
   "outputs": [],
   "source": [
    "# Defining a function to prompt models through the OpenAI API\n",
    "\n",
    "def prompt(model, user_prompt, system_prompt = None, response_format = None):\n",
    "    try:\n",
    "        \n",
    "        if system_prompt == None:\n",
    "            prompt_list = [\n",
    "                {'role' : 'user', 'content' : user_prompt}\n",
    "            ]\n",
    "        else:\n",
    "            prompt_list = [\n",
    "                    {'role' : 'system', 'content' : system_prompt},\n",
    "                    {'role' : 'user', 'content' : user_prompt}\n",
    "            ]\n",
    "    \n",
    "        if response_format == None:\n",
    "            model_response = client.chat.completions.create(\n",
    "                model = model,\n",
    "                messages = prompt_list\n",
    "            )\n",
    "            function_output = model_response.choices[0].message.content\n",
    "        else:\n",
    "            model_response = client.beta.chat.completions.parse(\n",
    "                model = model,\n",
    "                messages = prompt_list,\n",
    "                response_format = response_format\n",
    "            )\n",
    "            function_output = model_response.choices[0].message.parsed\n",
    "        \n",
    "        return function_output\n",
    "    \n",
    "    except Exception as e:\n",
    "        return f'An error occurred: {e}'"
   ]
  },
  {
   "cell_type": "markdown",
   "metadata": {},
   "source": [
    "<br>\n",
    "\n",
    "## Step 2: Extracting a List of Unique Tools\n",
    "\n",
    "Next, we extract a list of unique tools from the Alternatives column with the OpenAI API. To reduce error, we divide this task into three prompts:\n",
    "\n",
    "1. Extract a list of unique tools.\n",
    "2. Rename the tools according to Python variable syntax.\n",
    "3. Organize the tools into a Python list."
   ]
  },
  {
   "cell_type": "code",
   "execution_count": null,
   "metadata": {},
   "outputs": [],
   "source": [
    "# Isolating the Alternatives column and converting its data into a string\n",
    "\n",
    "alternatives_string = posting_data['Alternatives'].to_string(index = False)"
   ]
  },
  {
   "cell_type": "code",
   "execution_count": null,
   "metadata": {},
   "outputs": [],
   "source": [
    "# PROMPT 1\n",
    "# Extracting an unstructured list of unique tools from the Alternatives data with GPT o1\n",
    "\n",
    "user_prompt_1 = f'The following text contains tools which can be used instead of or alongside Python. Give me a list of unique tools. Exclude Python.\\n{alternatives_string}'\n",
    "unstructured_tool_list = prompt('o1-preview', user_prompt_1)\n",
    "unstructured_tool_list"
   ]
  },
  {
   "cell_type": "code",
   "execution_count": null,
   "metadata": {},
   "outputs": [],
   "source": [
    "# PROMPT 2\n",
    "# Renaming the tools with GPT o1\n",
    "\n",
    "user_prompt_2 = f'The following text contains a list of tools which can be used instead of or alongside Python. Format the name of each tool so that it can serve as the name of a variable in a Python program. No explanation is necessary.\\n{unstructured_tool_list}'\n",
    "unstructured_tool_list_renamed = prompt('o1-preview', user_prompt_2)\n",
    "unstructured_tool_list_renamed"
   ]
  },
  {
   "cell_type": "code",
   "execution_count": null,
   "metadata": {},
   "outputs": [],
   "source": [
    "# PROMPT 3\n",
    "# Organizing the tools into a Python list with GPT 4o\n",
    "\n",
    "# Defining a JSON schema to constrain the model's output\n",
    "\n",
    "class one_dimensional_json_list(BaseModel):           \n",
    "    elements: list[str]                               \n",
    "\n",
    "\n",
    "# Prompting GPT 4o\n",
    "\n",
    "user_prompt_3 = unstructured_tool_list_renamed\n",
    "system_prompt_3 = 'The user will provide a list of tools which can be used instead of or alongside Python. Return the list to the user in the supplied JSON format.'\n",
    "structured_tool_list = prompt('gpt-4o', user_prompt_3, system_prompt_3, response_format = one_dimensional_json_list).elements\n",
    "\n",
    "\n",
    "# Displaying the result\n",
    "\n",
    "print(f'This list contains {len(structured_tool_list)} elements:')\n",
    "structured_tool_list.sort()\n",
    "structured_tool_list"
   ]
  },
  {
   "cell_type": "markdown",
   "metadata": {},
   "source": [
    "<br>\n",
    "\n",
    "## Step 3: Creating Unflagged Indicator Columns\n",
    "\n",
    "Next, we make any necessary manual changes to the list of tools and then use it to create a set of unflagged indicator columns."
   ]
  },
  {
   "cell_type": "code",
   "execution_count": null,
   "metadata": {},
   "outputs": [],
   "source": [
    "# Manually cleaning the list\n",
    "# (Because the output of the prior cell varies, the code in this cell may change.)\n",
    "\n",
    "structured_tool_list.remove('Amazon_QuickSight')                                                                    # To prevent confusion with Amazon Web Services\n",
    "structured_tool_list.append('Quicksight')\n",
    "structured_tool_list.remove('Amazon_Web_Services_AWS')\n",
    "structured_tool_list.append('AWS')\n",
    "structured_tool_list.remove('Cpp')\n",
    "structured_tool_list.append('C_plus_plus')\n",
    "structured_tool_list.sort()\n",
    "structured_tool_list"
   ]
  },
  {
   "cell_type": "code",
   "execution_count": null,
   "metadata": {},
   "outputs": [],
   "source": [
    "# Adding indicator columns to the DataFrame\n",
    "\n",
    "posting_data[structured_tool_list] = False\n",
    "posting_data.columns"
   ]
  },
  {
   "cell_type": "markdown",
   "metadata": {},
   "source": [
    "<br>\n",
    "\n",
    "## Step 4: Flagging the Indicator Columns\n",
    "\n",
    "Now that we have a list of unique tools and a set of unflagged indicator columns, we can loop through each row in the Alternatives column, identify listed tools, and update the indicator columns accordingly.\n",
    "\n",
    "This step sends a unique prompt to the OpenAI model for each row, directing it to identify both expected and unexpected tools (in case the earlier model missed something in its response to Prompt #1).\n",
    "\n",
    "If the model identifies an expected tool in a row of the Alternatives column, then this step will flag the corresponding indicator column.\n",
    "\n",
    "Because the dataset contains 100 rows, this step will take longer to compute than the others."
   ]
  },
  {
   "cell_type": "code",
   "execution_count": null,
   "metadata": {},
   "outputs": [],
   "source": [
    "# PROMPT 4\n",
    "# Analyzing each row of Alternatives and updating indicator columns accordingly\n",
    "\n",
    "# Initializing a dictionary for documenting unexpected tools\n",
    "\n",
    "unexpected_tools_dict = {}\n",
    "\n",
    "\n",
    "# Defining a JSON schema to constrain the model's output\n",
    "\n",
    "class RowAnalysisSchema(BaseModel):\n",
    "    expected_tools: list[str]\n",
    "    unexpected_tools: list[str]\n",
    "\n",
    "\n",
    "# Looping through each row of Alternatives, updating indicator columns, and recording\n",
    "# unexpected tools.\n",
    "\n",
    "for index in range(len(posting_data)):\n",
    "\n",
    "    # Specify data for analysis\n",
    "    row_data = posting_data['Alternatives'][index]\n",
    "    \n",
    "    # Define prompt\n",
    "    user_prompt_4 = f'The row data at the end of this prompt contains some number of tools (possibly zero) which can be used instead of or alongside Python. Although there may be some spelling differences, I expect that any tools in the row data will be members of the following set:\\nExpected Tool Set:\\n{str(structured_tool_list)}\\nHowever, it is possible that the row data could contain other tools. Indicate the presence of expected tools by adding the name of the tool to the expected_tools field in the supplied JSON schema. Indicate the presence of unexpected tools by adding the name of the tool to the unexpected_tools field in the supplied JSON schema. If an expected tool is present in the row data, return the name of the tool as it is written in the Expected Tool Set, even if the name of the tool is slightly different in the row data.\\nRow Data:\\n{row_data}'\n",
    "    \n",
    "    # Prompting GPT 4o\n",
    "    row_tools_object = prompt('gpt-4o', user_prompt_4, response_format = RowAnalysisSchema)\n",
    "    print(row_tools_object)\n",
    "\n",
    "    # Update indicator columns\n",
    "    for tool in row_tools_object.expected_tools:\n",
    "        posting_data.at[index, tool] = True\n",
    "\n",
    "    # Document unexpected tools        \n",
    "    if len(row_tools_object.unexpected_tools) > 0:\n",
    "        unexpected_tools_dict[index] = row_tools_object.unexpected_tools"
   ]
  },
  {
   "cell_type": "markdown",
   "metadata": {},
   "source": [
    "<br>\n",
    "\n",
    "## Step 5: Evaluating Results\n",
    "\n",
    "Finally, we display the model's collection of unexpected tools and output the modified DataFrame as a CSV to feed into our scoring tool."
   ]
  },
  {
   "cell_type": "code",
   "execution_count": null,
   "metadata": {},
   "outputs": [],
   "source": [
    "# Displaying the model's collection of unexpected tools\n",
    "\n",
    "print(f'The model identified unexpected Tools in {len(unexpected_tools_dict)} rows:\\n{unexpected_tools_dict}\\n---')"
   ]
  },
  {
   "cell_type": "code",
   "execution_count": null,
   "metadata": {},
   "outputs": [],
   "source": [
    "# Exporting the modified DataFrame as a CSV for scoring\n",
    "\n",
    "posting_data.to_csv('OpenAI Test Results.csv')"
   ]
  },
  {
   "cell_type": "markdown",
   "metadata": {},
   "source": [
    "<br>\n",
    "\n",
    "---\n",
    "\n",
    "*If you are a finance professional and would like to learn Python, check out PyFi's introductory courses at [PyFi.com](https://pyfi.com).*"
   ]
  }
 ],
 "metadata": {
  "kernelspec": {
   "display_name": "Python 3",
   "language": "python",
   "name": "python3"
  },
  "language_info": {
   "codemirror_mode": {
    "name": "ipython",
    "version": 3
   },
   "file_extension": ".py",
   "mimetype": "text/x-python",
   "name": "python",
   "nbconvert_exporter": "python",
   "pygments_lexer": "ipython3",
   "version": "3.12.1"
  }
 },
 "nbformat": 4,
 "nbformat_minor": 2
}
