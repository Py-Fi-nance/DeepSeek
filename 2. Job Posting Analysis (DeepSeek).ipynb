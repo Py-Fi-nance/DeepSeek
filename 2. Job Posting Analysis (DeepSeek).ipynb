{
 "cells": [
  {
   "cell_type": "markdown",
   "metadata": {},
   "source": [
    "# Job Posting Analysis (DeepSeek)\n",
    "---"
   ]
  },
  {
   "cell_type": "markdown",
   "metadata": {},
   "source": [
    "## The Case\n",
    "\n",
    "[PyFi](https://pyfi.com) teaches finance professionals how to code in Python. To support our marketing, we analyzed a set of job postings to understand why companies hire finance professionals with Python skills.\n",
    "\n",
    "As part of our analysis, we asked, \"What alternative tools do these job postings list alongside Python?\" Our research assistant copied tools into a spreadsheet, but the tool names and list formatting were inconsistent. In order to analyze this unstructured data, we needed to convert it into structured data.\n",
    "\n",
    "The purpose of this Python program is to automatically convert the unstructured data in the \"Alternatives\" column of Job Data.csv into a set of correctly-flagged indicator columns to support PyFi's analysis.\n",
    "\n",
    "This version of the program uses the [DeepSeek API](https://api-docs.deepseek.com/) (which we access through the OpenAI package)."
   ]
  },
  {
   "cell_type": "markdown",
   "metadata": {},
   "source": [
    "<br>\n",
    "\n",
    "## Step 1: Preparation\n",
    "\n",
    "First, we prepare to analyze the job posting data by importing the necessary packages, reading the job posting data into our program, and defining a prompting function."
   ]
  },
  {
   "cell_type": "code",
   "execution_count": null,
   "metadata": {},
   "outputs": [],
   "source": [
    "# Installing the OpenAI package so that it is available for import\n",
    "\n",
    "%pip install openai"
   ]
  },
  {
   "cell_type": "code",
   "execution_count": null,
   "metadata": {},
   "outputs": [],
   "source": [
    "# Importing packages\n",
    "\n",
    "import pandas as pd\n",
    "from openai import OpenAI\n",
    "import json"
   ]
  },
  {
   "cell_type": "code",
   "execution_count": null,
   "metadata": {},
   "outputs": [],
   "source": [
    "# Reading the job posting data into the program\n",
    "\n",
    "posting_data = pd.read_csv('Job Data.csv')\n",
    "posting_data"
   ]
  },
  {
   "cell_type": "code",
   "execution_count": null,
   "metadata": {},
   "outputs": [],
   "source": [
    "# Creating an OpenAI-type client object with a DeepSeek API key and base URL\n",
    "\n",
    "client = OpenAI(api_key = 'Your API Key', base_url = 'https://api.deepseek.com')\n",
    "\n",
    "\n",
    "# Defining a function to prompt models through the DeepSeek API\n",
    "\n",
    "def prompt(model, user_prompt, system_prompt = None, response_format = None):\n",
    "    try:\n",
    "        \n",
    "        if system_prompt == None:\n",
    "            prompt_list = [\n",
    "                {'role' : 'user', 'content' : user_prompt}\n",
    "            ]\n",
    "        else:\n",
    "            prompt_list = [\n",
    "                    {'role' : 'system', 'content' : system_prompt},\n",
    "                    {'role' : 'user', 'content' : user_prompt}\n",
    "            ]\n",
    "    \n",
    "        if response_format == None:\n",
    "            model_response = client.chat.completions.create(\n",
    "                model = model,\n",
    "                messages = prompt_list\n",
    "            )\n",
    "            function_output = model_response.choices[0].message.content\n",
    "        elif response_format == 'json_object':\n",
    "            model_response = client.chat.completions.create(\n",
    "                model = model,\n",
    "                messages = prompt_list,\n",
    "                response_format = {'type' : response_format}\n",
    "            )\n",
    "            function_output = json.loads(model_response.choices[0].message.content)\n",
    "        else:\n",
    "            raise ValueError(\"response_format must be None or 'json_object'\")\n",
    "        \n",
    "        return function_output\n",
    "    \n",
    "    except Exception as e:\n",
    "        return f'An error occurred: {e}'"
   ]
  },
  {
   "cell_type": "markdown",
   "metadata": {},
   "source": [
    "<br>\n",
    "\n",
    "## Step 2: Extracting a List of Unique Tools\n",
    "\n",
    "Next, we extract a list of unique tools from the Alternatives column with the DeepSeek API. To reduce error, we divide this task into three prompts:\n",
    "\n",
    "1. Extract a list of unique tools.\n",
    "2. Rename the tools according to Python variable syntax.\n",
    "3. Organize the tools into a Python list."
   ]
  },
  {
   "cell_type": "code",
   "execution_count": null,
   "metadata": {},
   "outputs": [],
   "source": [
    "# Isolating the Alternatives column and converting its data into a string\n",
    "\n",
    "alternatives_string = posting_data['Alternatives'].to_string(index = False)"
   ]
  },
  {
   "cell_type": "code",
   "execution_count": null,
   "metadata": {},
   "outputs": [],
   "source": [
    "# PROMPT 1\n",
    "# Extracting an unstructured list of unique tools from the Alternatives data with R1\n",
    "\n",
    "user_prompt_1 = f'The following data contains tools which can be used instead of or alongside Python. Give me a list of unique tools. Exclude Python.\\n{alternatives_string}'\n",
    "\n",
    "unstructured_tool_list = prompt('deepseek-reasoner', user_prompt_1)\n",
    "unstructured_tool_list"
   ]
  },
  {
   "cell_type": "code",
   "execution_count": null,
   "metadata": {},
   "outputs": [],
   "source": [
    "# PROMPT 2\n",
    "# Renaming the tools with R1\n",
    "\n",
    "user_prompt_2 = f'The following text contains a list of tools which can be used instead of or alongside Python. Format the name of each tool so that it can serve as the name of a variable in a Python program. No explanation is necessary.\\n{unstructured_tool_list}'\n",
    "\n",
    "unstructured_tool_list_renamed = prompt('deepseek-reasoner', user_prompt_2)\n",
    "unstructured_tool_list_renamed"
   ]
  },
  {
   "cell_type": "code",
   "execution_count": null,
   "metadata": {},
   "outputs": [],
   "source": [
    "# PROMPT 3\n",
    "# Organizing the tools into a Python list with V3\n",
    "\n",
    "user_prompt_3 = unstructured_tool_list_renamed\n",
    "system_prompt_3 = '''\n",
    "The user will provide a list of tools which can be used instead of or alongside Python. Return the list to the user in JSON format according to the following example:\n",
    "\n",
    "EXAMPLE INPUT:\n",
    "Aladdin, Alteryx, amazon_quicksight\n",
    "\n",
    "EXAMPLE OUTPUT:\n",
    "{\n",
    "    \"tools\": [\"Aladdin\", \"Alteryx\", \"amazon_quicksight\"]\n",
    "}\n",
    "'''\n",
    "structured_tool_list = prompt('deepseek-chat', user_prompt_3, system_prompt_3, response_format ='json_object')['tools']\n",
    "\n",
    "\n",
    "# Displaying the result\n",
    "\n",
    "print(f'This list contains {len(structured_tool_list)} elements:')\n",
    "structured_tool_list.sort()\n",
    "structured_tool_list"
   ]
  },
  {
   "cell_type": "markdown",
   "metadata": {},
   "source": [
    "<br>\n",
    "\n",
    "## Step 3: Creating Unflagged Indicator Columns\n",
    "\n",
    "Next, we make any necessary manual changes to the list of tools and then use it to create a set of unflagged indicator columns."
   ]
  },
  {
   "cell_type": "code",
   "execution_count": null,
   "metadata": {},
   "outputs": [],
   "source": [
    "# Manually cleaning the list\n",
    "# (Because the output of the prior cell varies, the code in this cell may change.)\n",
    "\n",
    "structured_tool_list.remove('amazon_quicksight')    # To prevent confusion with Amazon Web Services\n",
    "structured_tool_list.append('quicksight')\n",
    "structured_tool_list.sort()\n",
    "structured_tool_list"
   ]
  },
  {
   "cell_type": "code",
   "execution_count": null,
   "metadata": {},
   "outputs": [],
   "source": [
    "# Adding indicator columns to the DataFrame\n",
    "\n",
    "posting_data[structured_tool_list] = False\n",
    "posting_data.columns"
   ]
  },
  {
   "cell_type": "markdown",
   "metadata": {},
   "source": [
    "<br>\n",
    "\n",
    "## Step 4: Flagging the Indicator Columns\n",
    "\n",
    "Now that we have a list of unique tools and a set of unflagged indicator columns, we can loop through each row in the Alternatives column, identify listed tools, and update the indicator columns accordingly.\n",
    "\n",
    "This step sends a unique prompt to the DeepSeek model for each row, directing it to identify both expected and unexpected tools (in case the earlier model missed something in its response to Prompt #1).\n",
    "\n",
    "If the model identifies an expected tool in a row of the Alternatives column, then this step will flag the corresponding indicator column.\n",
    "\n",
    "Because the dataset contains 100 rows, this step will take longer to compute than the others."
   ]
  },
  {
   "cell_type": "code",
   "execution_count": null,
   "metadata": {},
   "outputs": [],
   "source": [
    "# PROMPT 4\n",
    "# Analyzing each row of alternatives and updating indicator columns accordingly\n",
    "\n",
    "# Initializing a dictionary for documenting unexpected tools\n",
    "\n",
    "unexpected_tools_dict = {}\n",
    "\n",
    "\n",
    "# Looping through each row of Alternatives, updating indicator columns, and recording\n",
    "# unexpected tools.\n",
    "\n",
    "for index in range(len(posting_data)):\n",
    "\n",
    "    # Specify data for analysis\n",
    "    row_data = str(posting_data['Alternatives'][index])\n",
    "    \n",
    "    # Define prompts\n",
    "    user_prompt_4 = row_data\n",
    "    system_prompt_4 = f'''The user will provide some number of tools (possibly zero) which can be used instead of or alongside Python. Although there may be some spelling differences, I expect that any tools in the row data will be members of the following set:\n",
    "    \n",
    "    Expected Tool Set: {str(structured_tool_list)}\n",
    "    \n",
    "    However, it is possible that the user's data could contain other tools. Indicate the presence of expected tools by adding the name of the tool to the expected_tools field in the supplied JSON schema. Indicate the presence of unexpected tools by adding the name of the tool to the unexpected_tools field in the supplied JSON schema. \n",
    "    \n",
    "    If an expected tool is present in the user's data, return the name of the tool exactly as it is written in the Expected Tool Set (including identical capitalization), even if the name of the tool is slightly different in the user's data.\n",
    "\n",
    "    EXAMPLE INPUT:\n",
    "    SQL, R, C++, DAX, or other analytical languages\n",
    "\n",
    "    EXAMPLE OUTPUT:\n",
    "    {{\n",
    "        \"expected_tools\": [\"sql\", \"r\", \"c_plus_plus\"],\n",
    "        \"unexpected_tools\": [\"DAX\"]\n",
    "    }}\n",
    "    '''\n",
    "    # Prompt V3\n",
    "    row_tools_object = prompt('deepseek-chat', user_prompt_4, system_prompt_4, response_format = 'json_object')\n",
    "    print(row_tools_object)\n",
    "\n",
    "    # Update indicator columns\n",
    "    for tool in row_tools_object['expected_tools']:\n",
    "        posting_data.at[index, tool] = True\n",
    "\n",
    "    # Document unexpected tools        \n",
    "    if len(row_tools_object['unexpected_tools']) > 0:\n",
    "        unexpected_tools_dict[index] = row_tools_object['unexpected_tools']"
   ]
  },
  {
   "cell_type": "markdown",
   "metadata": {},
   "source": [
    "<br>\n",
    "\n",
    "## Step 5: Evaluating Results\n",
    "\n",
    "Finally, we display the model's collection of unexpected tools and output the modified DataFrame as a CSV to feed into our scoring tool."
   ]
  },
  {
   "cell_type": "code",
   "execution_count": null,
   "metadata": {},
   "outputs": [],
   "source": [
    "# Displaying the model's collection of unexpected tools\n",
    "\n",
    "print(f'The model identified unexpected Tools in {len(unexpected_tools_dict)} rows:\\n{unexpected_tools_dict}\\n---')"
   ]
  },
  {
   "cell_type": "code",
   "execution_count": null,
   "metadata": {},
   "outputs": [],
   "source": [
    "# Exporting the modified DataFrame as a CSV for further evaluation\n",
    "\n",
    "posting_data.to_csv('DeepSeek Test Results.csv')"
   ]
  },
  {
   "cell_type": "markdown",
   "metadata": {},
   "source": [
    "<br>\n",
    "\n",
    "---\n",
    "\n",
    "*If you are a finance professional and would like to learn Python, check out PyFi's introductory courses at [PyFi.com](https://pyfi.com).*"
   ]
  }
 ],
 "metadata": {
  "kernelspec": {
   "display_name": "Python 3",
   "language": "python",
   "name": "python3"
  },
  "language_info": {
   "codemirror_mode": {
    "name": "ipython",
    "version": 3
   },
   "file_extension": ".py",
   "mimetype": "text/x-python",
   "name": "python",
   "nbconvert_exporter": "python",
   "pygments_lexer": "ipython3",
   "version": "3.12.1"
  }
 },
 "nbformat": 4,
 "nbformat_minor": 2
}
